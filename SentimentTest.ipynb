{
 "cells": [
  {
   "cell_type": "code",
   "execution_count": 1,
   "metadata": {},
   "outputs": [],
   "source": [
    "import pandas as pd\n",
    "import numpy as np\n",
    "import seaborn as sns\n",
    "import matplotlib.pyplot as plt"
   ]
  },
  {
   "cell_type": "code",
   "execution_count": 2,
   "metadata": {},
   "outputs": [],
   "source": [
    "train_set = pd.read_csv('data/train_preprocessed.csv')\n",
    "test_set = pd.read_csv('data/test_preprocessed.csv')"
   ]
  },
  {
   "cell_type": "code",
   "execution_count": 3,
   "metadata": {},
   "outputs": [
    {
     "data": {
      "text/html": [
       "<div>\n",
       "<style scoped>\n",
       "    .dataframe tbody tr th:only-of-type {\n",
       "        vertical-align: middle;\n",
       "    }\n",
       "\n",
       "    .dataframe tbody tr th {\n",
       "        vertical-align: top;\n",
       "    }\n",
       "\n",
       "    .dataframe thead th {\n",
       "        text-align: right;\n",
       "    }\n",
       "</style>\n",
       "<table border=\"1\" class=\"dataframe\">\n",
       "  <thead>\n",
       "    <tr style=\"text-align: right;\">\n",
       "      <th></th>\n",
       "      <th>label</th>\n",
       "    </tr>\n",
       "  </thead>\n",
       "  <tbody>\n",
       "    <tr>\n",
       "      <th>count</th>\n",
       "      <td>249815.000000</td>\n",
       "    </tr>\n",
       "    <tr>\n",
       "      <th>mean</th>\n",
       "      <td>0.180942</td>\n",
       "    </tr>\n",
       "    <tr>\n",
       "      <th>std</th>\n",
       "      <td>0.730299</td>\n",
       "    </tr>\n",
       "    <tr>\n",
       "      <th>min</th>\n",
       "      <td>-1.000000</td>\n",
       "    </tr>\n",
       "    <tr>\n",
       "      <th>25%</th>\n",
       "      <td>0.000000</td>\n",
       "    </tr>\n",
       "    <tr>\n",
       "      <th>50%</th>\n",
       "      <td>0.000000</td>\n",
       "    </tr>\n",
       "    <tr>\n",
       "      <th>75%</th>\n",
       "      <td>1.000000</td>\n",
       "    </tr>\n",
       "    <tr>\n",
       "      <th>max</th>\n",
       "      <td>1.000000</td>\n",
       "    </tr>\n",
       "  </tbody>\n",
       "</table>\n",
       "</div>"
      ],
      "text/plain": [
       "               label\n",
       "count  249815.000000\n",
       "mean        0.180942\n",
       "std         0.730299\n",
       "min        -1.000000\n",
       "25%         0.000000\n",
       "50%         0.000000\n",
       "75%         1.000000\n",
       "max         1.000000"
      ]
     },
     "execution_count": 3,
     "metadata": {},
     "output_type": "execute_result"
    }
   ],
   "source": [
    "train_set.describe()"
   ]
  },
  {
   "cell_type": "code",
   "execution_count": 4,
   "metadata": {},
   "outputs": [
    {
     "data": {
      "text/plain": [
       "<matplotlib.axes._subplots.AxesSubplot at 0x7f0dc6161f28>"
      ]
     },
     "execution_count": 4,
     "metadata": {},
     "output_type": "execute_result"
    },
    {
     "data": {
      "image/png": "[encoded data removed]",
      "text/plain": [
       "<Figure size 432x288 with 1 Axes>"
      ]
     },
     "metadata": {
      "needs_background": "light"
     },
     "output_type": "display_data"
    }
   ],
   "source": [
    "sns.countplot(train_set.label)"
   ]
  },
  {
   "cell_type": "code",
   "execution_count": 5,
   "metadata": {},
   "outputs": [],
   "source": [
    "train_set['length'] = train_set['text'].apply(lambda x: len(str(x)))\n",
    "train_set['words_count'] = train_set['text'].apply(lambda x: len(str(x).split()))"
   ]
  },
  {
   "cell_type": "code",
   "execution_count": 5,
   "metadata": {
    "scrolled": true
   },
   "outputs": [
    {
     "data": {
      "text/plain": [
       "array([[<matplotlib.axes._subplots.AxesSubplot object at 0x7f275323eb00>,\n",
       "        <matplotlib.axes._subplots.AxesSubplot object at 0x7f2757e44ac8>],\n",
       "       [<matplotlib.axes._subplots.AxesSubplot object at 0x7f2756191ac8>,\n",
       "        <matplotlib.axes._subplots.AxesSubplot object at 0x7f27561510b8>]],\n",
       "      dtype=object)"
      ]
     },
     "execution_count": 5,
     "metadata": {},
     "output_type": "execute_result"
    },
    {
     "data": {
      "image/png": "[encoded data removed]",
      "text/plain": [
       "<Figure size 432x288 with 4 Axes>"
      ]
     },
     "metadata": {
      "needs_background": "light"
     },
     "output_type": "display_data"
    }
   ],
   "source": [
    "train_set.hist(column=\"length\", by=\"label\")"
   ]
  },
  {
   "cell_type": "code",
   "execution_count": 6,
   "metadata": {},
   "outputs": [
    {
     "data": {
      "text/plain": [
       "array([[<matplotlib.axes._subplots.AxesSubplot object at 0x7f275323ecf8>,\n",
       "        <matplotlib.axes._subplots.AxesSubplot object at 0x7f2756019cf8>],\n",
       "       [<matplotlib.axes._subplots.AxesSubplot object at 0x7f2755fd22e8>,\n",
       "        <matplotlib.axes._subplots.AxesSubplot object at 0x7f2755f82898>]],\n",
       "      dtype=object)"
      ]
     },
     "execution_count": 6,
     "metadata": {},
     "output_type": "execute_result"
    },
    {
     "data": {
      "image/png": "[encoded data removed]",
      "text/plain": [
       "<Figure size 432x288 with 4 Axes>"
      ]
     },
     "metadata": {
      "needs_background": "light"
     },
     "output_type": "display_data"
    }
   ],
   "source": [
    "train_set.hist(column=\"words_count\", by=\"label\")"
   ]
  },
  {
   "cell_type": "code",
   "execution_count": 6,
   "metadata": {},
   "outputs": [],
   "source": [
    "train_set_small = train_set[train_set['words_count'] <= 100]\n",
    "train_set_small = train_set_small.dropna()"
   ]
  },
  {
   "cell_type": "code",
   "execution_count": 9,
   "metadata": {
    "scrolled": false
   },
   "outputs": [
    {
     "data": {
      "text/html": [
       "<div>\n",
       "<style scoped>\n",
       "    .dataframe tbody tr th:only-of-type {\n",
       "        vertical-align: middle;\n",
       "    }\n",
       "\n",
       "    .dataframe tbody tr th {\n",
       "        vertical-align: top;\n",
       "    }\n",
       "\n",
       "    .dataframe thead th {\n",
       "        text-align: right;\n",
       "    }\n",
       "</style>\n",
       "<table border=\"1\" class=\"dataframe\">\n",
       "  <thead>\n",
       "    <tr style=\"text-align: right;\">\n",
       "      <th></th>\n",
       "      <th>label</th>\n",
       "      <th>length</th>\n",
       "      <th>words_count</th>\n",
       "    </tr>\n",
       "  </thead>\n",
       "  <tbody>\n",
       "    <tr>\n",
       "      <th>count</th>\n",
       "      <td>244595.000000</td>\n",
       "      <td>244595.000000</td>\n",
       "      <td>244595.000000</td>\n",
       "    </tr>\n",
       "    <tr>\n",
       "      <th>mean</th>\n",
       "      <td>0.175372</td>\n",
       "      <td>45.843885</td>\n",
       "      <td>11.542738</td>\n",
       "    </tr>\n",
       "    <tr>\n",
       "      <th>std</th>\n",
       "      <td>0.726008</td>\n",
       "      <td>51.392357</td>\n",
       "      <td>12.190590</td>\n",
       "    </tr>\n",
       "    <tr>\n",
       "      <th>min</th>\n",
       "      <td>-1.000000</td>\n",
       "      <td>1.000000</td>\n",
       "      <td>1.000000</td>\n",
       "    </tr>\n",
       "    <tr>\n",
       "      <th>25%</th>\n",
       "      <td>0.000000</td>\n",
       "      <td>16.000000</td>\n",
       "      <td>4.000000</td>\n",
       "    </tr>\n",
       "    <tr>\n",
       "      <th>50%</th>\n",
       "      <td>0.000000</td>\n",
       "      <td>28.000000</td>\n",
       "      <td>7.000000</td>\n",
       "    </tr>\n",
       "    <tr>\n",
       "      <th>75%</th>\n",
       "      <td>1.000000</td>\n",
       "      <td>53.000000</td>\n",
       "      <td>13.000000</td>\n",
       "    </tr>\n",
       "    <tr>\n",
       "      <th>max</th>\n",
       "      <td>1.000000</td>\n",
       "      <td>464.000000</td>\n",
       "      <td>100.000000</td>\n",
       "    </tr>\n",
       "  </tbody>\n",
       "</table>\n",
       "</div>"
      ],
      "text/plain": [
       "               label         length    words_count\n",
       "count  244595.000000  244595.000000  244595.000000\n",
       "mean        0.175372      45.843885      11.542738\n",
       "std         0.726008      51.392357      12.190590\n",
       "min        -1.000000       1.000000       1.000000\n",
       "25%         0.000000      16.000000       4.000000\n",
       "50%         0.000000      28.000000       7.000000\n",
       "75%         1.000000      53.000000      13.000000\n",
       "max         1.000000     464.000000     100.000000"
      ]
     },
     "execution_count": 9,
     "metadata": {},
     "output_type": "execute_result"
    }
   ],
   "source": [
    "train_set_small.describe()"
   ]
  },
  {
   "cell_type": "code",
   "execution_count": 7,
   "metadata": {},
   "outputs": [],
   "source": [
    "from tensorflow.keras.preprocessing import text, sequence\n",
    "from gensim.models import Word2Vec\n",
    "import multiprocessing\n",
    "from tensorflow.keras.utils import to_categorical\n",
    "from tensorflow.keras import Sequential, callbacks, regularizers\n",
    "from tensorflow.keras.layers import CuDNNGRU, Conv1D, MaxPooling1D, SpatialDropout1D, Embedding, Dense, InputLayer\n",
    "from tensorflow.keras.optimizers import Adam\n",
    "from sklearn.metrics import classification_report\n",
    "import os"
   ]
  },
  {
   "cell_type": "code",
   "execution_count": 9,
   "metadata": {},
   "outputs": [],
   "source": [
    "sentences = train_set_small['text'].apply(lambda x: str(x).split())"
   ]
  },
  {
   "cell_type": "code",
   "execution_count": 12,
   "metadata": {},
   "outputs": [],
   "source": [
    "w2v = Word2Vec(sentences, min_count=1, size=300, iter=20, workers=multiprocessing.cpu_count(),sorted_vocab=1)"
   ]
  },
  {
   "cell_type": "code",
   "execution_count": 13,
   "metadata": {
    "scrolled": false
   },
   "outputs": [
    {
     "name": "stdout",
     "output_type": "stream",
     "text": [
      "[('bùn', 0.49478358030319214), ('mệt', 0.44434282183647156), ('bực', 0.3779468238353729), ('đau', 0.363492488861084), ('tiếc', 0.3536754250526428), ('phiền', 0.3471372127532959), ('khóc', 0.3428797721862793), ('chán', 0.34006422758102417), ('bận', 0.3354771137237549), ('dzâyh', 0.3326527774333954)]\n",
      "Vocab size: 33374\n"
     ]
    }
   ],
   "source": [
    "wv = w2v.wv\n",
    "print(wv.most_similar(\"buồn\"))\n",
    "print(\"Vocab size: %d\"%len(wv.vocab))\n",
    "filename = 'word_embedding.txt'\n",
    "wv.save_word2vec_format(filename, binary=False)"
   ]
  },
  {
   "cell_type": "code",
   "execution_count": 33,
   "metadata": {},
   "outputs": [],
   "source": [
    "MAX_LEN = 100\n",
    "VOCAB_SIZE = 33000"
   ]
  },
  {
   "cell_type": "code",
   "execution_count": 34,
   "metadata": {},
   "outputs": [],
   "source": [
    "tokenizer = text.Tokenizer(num_words=VOCAB_SIZE)\n",
    "tokenizer.fit_on_texts(train_set_small.text.astype(str))"
   ]
  },
  {
   "cell_type": "code",
   "execution_count": 35,
   "metadata": {},
   "outputs": [],
   "source": [
    "X = tokenizer.texts_to_sequences(train_set_small.text.astype(str))\n",
    "X = sequence.pad_sequences(X, maxlen=MAX_LEN)"
   ]
  },
  {
   "cell_type": "code",
   "execution_count": 36,
   "metadata": {},
   "outputs": [],
   "source": [
    "test_set = test_set.dropna()"
   ]
  },
  {
   "cell_type": "code",
   "execution_count": 37,
   "metadata": {},
   "outputs": [],
   "source": [
    "X_test = sequence.pad_sequences(tokenizer.texts_to_sequences(test_set.text.astype(str)), maxlen=MAX_LEN)"
   ]
  },
  {
   "cell_type": "code",
   "execution_count": 38,
   "metadata": {},
   "outputs": [],
   "source": [
    "Y = train_set_small.label + 1\n",
    "Y = to_categorical(Y,num_classes=3)"
   ]
  },
  {
   "cell_type": "code",
   "execution_count": 40,
   "metadata": {},
   "outputs": [],
   "source": [
    "Y_test = test_set.label + 1\n",
    "Y_test = Y_test.fillna(1)\n",
    "Y_test_cate = to_categorical(Y_test,num_classes=3)"
   ]
  },
  {
   "cell_type": "code",
   "execution_count": 15,
   "metadata": {},
   "outputs": [],
   "source": [
    "import tensorflow.keras.backend as K\n",
    "\n",
    "def precision(y_true, y_pred): \n",
    "    \"\"\"Precision metric. Only computes a batch-wise average of precision.  \n",
    "-    Computes the precision, a metric for multi-label classification of \n",
    "-    how many selected items are relevant. \n",
    "-    \"\"\" \n",
    "    true_positives = K.sum(K.round(K.clip(y_true * y_pred, 0, 1))) \n",
    "    predicted_positives = K.sum(K.round(K.clip(y_pred, 0, 1))) \n",
    "    precision = true_positives / (predicted_positives + K.epsilon()) \n",
    "    return precision \n",
    "\n",
    "def recall(y_true, y_pred): \n",
    "    \"\"\"Recall metric. \n",
    "-    Only computes a batch-wise average of recall. \n",
    "-    Computes the recall, a metric for multi-label classification of \n",
    "-    how many relevant items are selected. \n",
    "-    \"\"\" \n",
    "    true_positives = K.sum(K.round(K.clip(y_true * y_pred, 0, 1))) \n",
    "    possible_positives = K.sum(K.round(K.clip(y_true, 0, 1))) \n",
    "    recall = true_positives / (possible_positives + K.epsilon()) \n",
    "    return recall \n",
    "\n",
    "def fbeta_score(y_true, y_pred, beta=1): \n",
    "\n",
    "    \"\"\"Computes the F score.  \n",
    "-    The F score is the weighted harmonic mean of precision and recall. \n",
    "-    Here it is only computed as a batch-wise average, not globally. \n",
    "-    This is useful for multi-label classification, where input samples can be \n",
    "-    classified as sets of labels. By only using accuracy (precision) a model \n",
    "-    would achieve a perfect score by simply assigning every class to every \n",
    "-    input. In order to avoid this, a metric should penalize incorrect class \n",
    "-    assignments as well (recall). The F-beta score (ranged from 0.0 to 1.0) \n",
    "-    computes this, as a weighted mean of the proportion of correct class \n",
    "-    assignments vs. the proportion of incorrect class assignments.  \n",
    "-    With beta = 1, this is equivalent to a F-measure. With beta < 1, assigning \n",
    "-    correct classes becomes more important, and with beta > 1 the metric is \n",
    "-    instead weighted towards penalizing incorrect class assignments. \n",
    "-    \"\"\" \n",
    "    if beta < 0: \n",
    "        raise ValueError('The lowest choosable beta is zero (only precision).') \n",
    "\n",
    "    # If there are no true positives, fix the F score at 0 like sklearn. \n",
    "    if K.sum(K.round(K.clip(y_true, 0, 1))) == 0: \n",
    "\n",
    "        return 0 \n",
    "    p = precision(y_true, y_pred) \n",
    "    r = recall(y_true, y_pred) \n",
    "    bb = beta ** 2 \n",
    "    fbeta_score = (1 + bb) * (p * r) / (bb * p + r + K.epsilon()) \n",
    "    return fbeta_score \n",
    "\n",
    "def fmeasure(y_true, y_pred): \n",
    "    \"\"\"Computes the f-measure, the harmonic mean of precision and recall. \n",
    "    Here it is only computed as a batch-wise average, not globally. \n",
    "    \"\"\" \n",
    "    return fbeta_score(y_true, y_pred, beta=1) "
   ]
  },
  {
   "cell_type": "code",
   "execution_count": null,
   "metadata": {},
   "outputs": [],
   "source": [
    "from sklearn.metrics import f1_score"
   ]
  },
  {
   "cell_type": "code",
   "execution_count": 41,
   "metadata": {},
   "outputs": [],
   "source": [
    "def create_model(dim=300, dropout_rate=0.2, conv_size=2, pool_size=2, units=100, embed=None, trainable=False, VOCABSIZE=VOCAB_SIZE, l2=0.001, max_len=MAX_LEN):\n",
    "    model = Sequential()\n",
    "    model.add(InputLayer(input_shape=(max_len,)))\n",
    "    model.add(Embedding(VOCABSIZE, dim, input_length=max_len, weights=embed))\n",
    "    model.add(CuDNNGRU(units, kernel_regularizer=regularizers.l2(l2)))\n",
    "    model.add(Dense(3, activation='softmax', kernel_initializer='normal'))\n",
    "    print(model.summary())\n",
    "    model.compile(loss='categorical_crossentropy', optimizer=Adam(), metrics=[fmeasure, precision, recall])\n",
    "    return model"
   ]
  },
  {
   "cell_type": "code",
   "execution_count": 42,
   "metadata": {},
   "outputs": [
    {
     "name": "stdout",
     "output_type": "stream",
     "text": [
      "Model: \"sequential_2\"\n",
      "_________________________________________________________________\n",
      "Layer (type)                 Output Shape              Param #   \n",
      "=================================================================\n",
      "embedding_2 (Embedding)      (None, 100, 300)          9900000   \n",
      "_________________________________________________________________\n",
      "cu_dnngru_2 (CuDNNGRU)       (None, 100)               120600    \n",
      "_________________________________________________________________\n",
      "dense_2 (Dense)              (None, 3)                 303       \n",
      "=================================================================\n",
      "Total params: 10,020,903\n",
      "Trainable params: 10,020,903\n",
      "Non-trainable params: 0\n",
      "_________________________________________________________________\n",
      "None\n"
     ]
    }
   ],
   "source": [
    "model = create_model()"
   ]
  },
  {
   "cell_type": "code",
   "execution_count": 43,
   "metadata": {},
   "outputs": [],
   "source": [
    "checkpoint_path = 'training_wo_pretrain/cp.ckpt'\n",
    "checkpoint_dir = os.path.dirname(checkpoint_path)\n",
    "\n",
    "CP = callbacks.ModelCheckpoint(checkpoint_path, save_weights_only=True, monitor=\"val_loss\", mode=\"min\", save_best_only=True, verbose=1)\n",
    "ES = callbacks.EarlyStopping(monitor='val_loss',min_delta=0.0001, patience=2)\n",
    "\n",
    "cplist = [CP, ES]"
   ]
  },
  {
   "cell_type": "code",
   "execution_count": 44,
   "metadata": {
    "scrolled": true
   },
   "outputs": [
    {
     "name": "stdout",
     "output_type": "stream",
     "text": [
      "Train on 220135 samples, validate on 24460 samples\n",
      "Epoch 1/20\n",
      "\n",
      "Epoch 00001: val_loss improved from inf to 0.46831, saving model to training_wo_pretrain/cp.ckpt\n",
      "220135/220135 - 23s - loss: 0.5403 - fmeasure: 0.7873 - precision: 0.8230 - recall: 0.7630 - val_loss: 0.4683 - val_fmeasure: 0.8202 - val_precision: 0.8412 - val_recall: 0.8003\n",
      "Epoch 2/20\n",
      "\n",
      "Epoch 00002: val_loss improved from 0.46831 to 0.42970, saving model to training_wo_pretrain/cp.ckpt\n",
      "220135/220135 - 23s - loss: 0.3849 - fmeasure: 0.8581 - precision: 0.8724 - recall: 0.8443 - val_loss: 0.4297 - val_fmeasure: 0.8317 - val_precision: 0.8468 - val_recall: 0.8171\n",
      "Epoch 3/20\n",
      "\n",
      "Epoch 00003: val_loss improved from 0.42970 to 0.42334, saving model to training_wo_pretrain/cp.ckpt\n",
      "220135/220135 - 23s - loss: 0.3446 - fmeasure: 0.8714 - precision: 0.8839 - recall: 0.8594 - val_loss: 0.4233 - val_fmeasure: 0.8305 - val_precision: 0.8455 - val_recall: 0.8159\n",
      "Epoch 4/20\n",
      "\n",
      "Epoch 00004: val_loss improved from 0.42334 to 0.41938, saving model to training_wo_pretrain/cp.ckpt\n",
      "220135/220135 - 23s - loss: 0.3215 - fmeasure: 0.8801 - precision: 0.8914 - recall: 0.8691 - val_loss: 0.4194 - val_fmeasure: 0.8329 - val_precision: 0.8477 - val_recall: 0.8187\n",
      "Epoch 5/20\n",
      "\n",
      "Epoch 00005: val_loss did not improve from 0.41938\n",
      "220135/220135 - 22s - loss: 0.3044 - fmeasure: 0.8868 - precision: 0.8972 - recall: 0.8767 - val_loss: 0.4235 - val_fmeasure: 0.8348 - val_precision: 0.8466 - val_recall: 0.8235\n",
      "Epoch 6/20\n",
      "\n",
      "Epoch 00006: val_loss did not improve from 0.41938\n",
      "220135/220135 - 22s - loss: 0.2887 - fmeasure: 0.8931 - precision: 0.9026 - recall: 0.8839 - val_loss: 0.4372 - val_fmeasure: 0.8340 - val_precision: 0.8468 - val_recall: 0.8217\n"
     ]
    }
   ],
   "source": [
    "history = model.fit(X, Y, batch_size=256, epochs=20, validation_split=0.1, callbacks=cplist, verbose=2)"
   ]
  },
  {
   "cell_type": "code",
   "execution_count": 45,
   "metadata": {},
   "outputs": [
    {
     "data": {
      "image/png": "[encoded data removed]",
      "text/plain": [
       "<Figure size 432x288 with 1 Axes>"
      ]
     },
     "metadata": {
      "needs_background": "light"
     },
     "output_type": "display_data"
    }
   ],
   "source": [
    "history_dict = history.history\n",
    "#plot the metrics during training. \n",
    "epochs = range(1, len(history_dict['loss']) + 1)\n",
    "\n",
    "# \"bo\" is for \"blue dot\"\n",
    "plt.plot(epochs, history_dict['loss'], 'b',label='loss')\n",
    "plt.plot(epochs, history_dict['val_loss'], 'bo',label='val_loss')\n",
    "plt.plot(epochs, history_dict['fmeasure'], 'r',label='f1')\n",
    "plt.plot(epochs, history_dict['val_fmeasure'], 'ro',label='val_f1')\n",
    "plt.plot(epochs, history_dict['precision'], 'g',label='precision')\n",
    "plt.plot(epochs, history_dict['recall'], 'k',label='recall')\n",
    "\n",
    "plt.xlabel('Epochs')\n",
    "plt.grid()\n",
    "plt.legend(loc=1)\n",
    "plt.show()"
   ]
  },
  {
   "cell_type": "code",
   "execution_count": 46,
   "metadata": {},
   "outputs": [
    {
     "name": "stdout",
     "output_type": "stream",
     "text": [
      "              precision    recall  f1-score   support\n",
      "\n",
      "         0.0     0.8124    0.7418    0.7755     24472\n",
      "         1.0     0.8648    0.7586    0.8082     63707\n",
      "         2.0     0.7241    0.8954    0.8007     42064\n",
      "\n",
      "    accuracy                         0.7996    130243\n",
      "   macro avg     0.8004    0.7986    0.7948    130243\n",
      "weighted avg     0.8095    0.7996    0.7996    130243\n",
      "\n"
     ]
    }
   ],
   "source": [
    "predicted = model.predict_classes(X_test, batch_size=512)\n",
    "print(classification_report(Y_test, predicted, digits=4))"
   ]
  },
  {
   "cell_type": "code",
   "execution_count": 47,
   "metadata": {},
   "outputs": [
    {
     "name": "stdout",
     "output_type": "stream",
     "text": [
      "              precision    recall  f1-score   support\n",
      "\n",
      "         0.0     0.7766    0.7856    0.7811     24472\n",
      "         1.0     0.8644    0.7633    0.8107     63707\n",
      "         2.0     0.7468    0.8740    0.8054     42064\n",
      "\n",
      "    accuracy                         0.8033    130243\n",
      "   macro avg     0.7959    0.8077    0.7991    130243\n",
      "weighted avg     0.8099    0.8033    0.8034    130243\n",
      "\n"
     ]
    }
   ],
   "source": [
    "model.load_weights(checkpoint_path)\n",
    "predicted = model.predict_classes(X_test, batch_size=512)\n",
    "print(classification_report(Y_test, predicted, digits=4))"
   ]
  },
  {
   "cell_type": "code",
   "execution_count": 28,
   "metadata": {},
   "outputs": [],
   "source": [
    "from numpy import asarray, zeros\n",
    "\n",
    "def load_embedding(filename):\n",
    "    file = open(filename, 'r')\n",
    "    lines = file.readlines()[1:]\n",
    "    file.close()\n",
    "    embedding = dict()\n",
    "    for line in lines:\n",
    "        parts = line.split()\n",
    "        embedding[parts[0]] = asarray(parts[1:], dtype='float32')\n",
    "    return embedding\n",
    "def get_weight_matrix(embedding, vocab, MAX_WORDS):\n",
    "    weight_matrix = np.zeros((MAX_WORDS, 300))\n",
    "    num_loss = 0\n",
    "    for word, i in vocab.items():\n",
    "        if i < MAX_WORDS:\n",
    "            try:\n",
    "                weight_matrix[i] = embedding[word]\n",
    "            except:\n",
    "                num_loss += 1\n",
    "    print(\"Number of loss weight: {}\".format(num_loss))\n",
    "    return weight_matrix"
   ]
  },
  {
   "cell_type": "code",
   "execution_count": 29,
   "metadata": {},
   "outputs": [
    {
     "name": "stdout",
     "output_type": "stream",
     "text": [
      "Number of loss weight: 0\n"
     ]
    }
   ],
   "source": [
    "raw_embedding = load_embedding(filename)\n",
    "embedding_vectors = get_weight_matrix(raw_embedding, tokenizer.word_index, VOCAB_SIZE)"
   ]
  },
  {
   "cell_type": "code",
   "execution_count": 30,
   "metadata": {},
   "outputs": [
    {
     "data": {
      "text/plain": [
       "(25000, 300)"
      ]
     },
     "execution_count": 30,
     "metadata": {},
     "output_type": "execute_result"
    }
   ],
   "source": [
    "embedding_vectors.shape"
   ]
  },
  {
   "cell_type": "code",
   "execution_count": 31,
   "metadata": {
    "scrolled": true
   },
   "outputs": [
    {
     "name": "stdout",
     "output_type": "stream",
     "text": [
      "Model: \"sequential_1\"\n",
      "_________________________________________________________________\n",
      "Layer (type)                 Output Shape              Param #   \n",
      "=================================================================\n",
      "embedding_1 (Embedding)      (None, 30, 300)           7500000   \n",
      "_________________________________________________________________\n",
      "spatial_dropout1d_1 (Spatial (None, 30, 300)           0         \n",
      "_________________________________________________________________\n",
      "conv1d_1 (Conv1D)            (None, 30, 32)            19232     \n",
      "_________________________________________________________________\n",
      "max_pooling1d_1 (MaxPooling1 (None, 15, 32)            0         \n",
      "_________________________________________________________________\n",
      "cu_dnngru_1 (CuDNNGRU)       (None, 100)               40200     \n",
      "_________________________________________________________________\n",
      "dense_1 (Dense)              (None, 3)                 303       \n",
      "=================================================================\n",
      "Total params: 7,559,735\n",
      "Trainable params: 7,559,735\n",
      "Non-trainable params: 0\n",
      "_________________________________________________________________\n",
      "None\n"
     ]
    }
   ],
   "source": [
    "model = create_model(embed=[embedding_vectors], trainable=True)"
   ]
  },
  {
   "cell_type": "code",
   "execution_count": 32,
   "metadata": {},
   "outputs": [],
   "source": [
    "checkpoint_path = 'training_w_pretrain/cp.ckpt'\n",
    "checkpoint_dir = os.path.dirname(checkpoint_path)\n",
    "\n",
    "CP = callbacks.ModelCheckpoint(checkpoint_path, save_weights_only=True, monitor=\"val_loss\", mode=\"min\", save_best_only=True, verbose=1)\n",
    "\n",
    "cplist = [CP]"
   ]
  },
  {
   "cell_type": "code",
   "execution_count": 33,
   "metadata": {
    "scrolled": true
   },
   "outputs": [
    {
     "name": "stdout",
     "output_type": "stream",
     "text": [
      "Train on 131380 samples, validate on 87588 samples\n",
      "Epoch 1/20\n",
      "130560/131380 [============================>.] - ETA: 0s - loss: 0.4913 - fmeasure: 0.7771 - precision: 0.8148 - recall: 0.7565\n",
      "Epoch 00001: val_fmeasure improved from -inf to 0.82667, saving model to training_w_pretrain/cp.ckpt\n",
      "131380/131380 [==============================] - 9s 67us/sample - loss: 0.4906 - fmeasure: 0.7778 - precision: 0.8153 - recall: 0.7573 - val_loss: 0.4294 - val_fmeasure: 0.8267 - val_precision: 0.8435 - val_recall: 0.8105\n",
      "Epoch 2/20\n",
      "130816/131380 [============================>.] - ETA: 0s - loss: 0.3648 - fmeasure: 0.8560 - precision: 0.8718 - recall: 0.8409\n",
      "Epoch 00002: val_fmeasure improved from 0.82667 to 0.83848, saving model to training_w_pretrain/cp.ckpt\n",
      "131380/131380 [==============================] - 8s 64us/sample - loss: 0.3646 - fmeasure: 0.8562 - precision: 0.8720 - recall: 0.8411 - val_loss: 0.4006 - val_fmeasure: 0.8385 - val_precision: 0.8534 - val_recall: 0.8242\n",
      "Epoch 3/20\n",
      "130816/131380 [============================>.] - ETA: 0s - loss: 0.3299 - fmeasure: 0.8704 - precision: 0.8834 - recall: 0.8579\n",
      "Epoch 00003: val_fmeasure improved from 0.83848 to 0.84223, saving model to training_w_pretrain/cp.ckpt\n",
      "131380/131380 [==============================] - 9s 65us/sample - loss: 0.3299 - fmeasure: 0.8705 - precision: 0.8835 - recall: 0.8580 - val_loss: 0.3849 - val_fmeasure: 0.8422 - val_precision: 0.8563 - val_recall: 0.8287\n",
      "Epoch 4/20\n",
      "131328/131380 [============================>.] - ETA: 0s - loss: 0.3044 - fmeasure: 0.8818 - precision: 0.8932 - recall: 0.8708\n",
      "Epoch 00004: val_fmeasure improved from 0.84223 to 0.84398, saving model to training_w_pretrain/cp.ckpt\n",
      "131380/131380 [==============================] - 8s 63us/sample - loss: 0.3044 - fmeasure: 0.8819 - precision: 0.8932 - recall: 0.8709 - val_loss: 0.3845 - val_fmeasure: 0.8440 - val_precision: 0.8565 - val_recall: 0.8319\n",
      "Epoch 5/20\n",
      "131072/131380 [============================>.] - ETA: 0s - loss: 0.2818 - fmeasure: 0.8898 - precision: 0.8998 - recall: 0.8800\n",
      "Epoch 00005: val_fmeasure did not improve from 0.84398\n",
      "131380/131380 [==============================] - 8s 59us/sample - loss: 0.2819 - fmeasure: 0.8898 - precision: 0.8998 - recall: 0.8800 - val_loss: 0.4096 - val_fmeasure: 0.8368 - val_precision: 0.8485 - val_recall: 0.8254\n",
      "Epoch 6/20\n",
      "131328/131380 [============================>.] - ETA: 0s - loss: 0.2634 - fmeasure: 0.8975 - precision: 0.9063 - recall: 0.8889\n",
      "Epoch 00006: val_fmeasure did not improve from 0.84398\n",
      "131380/131380 [==============================] - 8s 59us/sample - loss: 0.2634 - fmeasure: 0.8976 - precision: 0.9064 - recall: 0.8890 - val_loss: 0.4000 - val_fmeasure: 0.8417 - val_precision: 0.8524 - val_recall: 0.8314\n",
      "Epoch 7/20\n",
      "130816/131380 [============================>.] - ETA: 0s - loss: 0.2490 - fmeasure: 0.9033 - precision: 0.9110 - recall: 0.8958\n",
      "Epoch 00007: val_fmeasure did not improve from 0.84398\n",
      "131380/131380 [==============================] - 8s 58us/sample - loss: 0.2493 - fmeasure: 0.9031 - precision: 0.9108 - recall: 0.8956 - val_loss: 0.4019 - val_fmeasure: 0.8410 - val_precision: 0.8513 - val_recall: 0.8310\n",
      "Epoch 8/20\n",
      "131328/131380 [============================>.] - ETA: 0s - loss: 0.2339 - fmeasure: 0.9094 - precision: 0.9164 - recall: 0.9025\n",
      "Epoch 00008: val_fmeasure did not improve from 0.84398\n",
      "131380/131380 [==============================] - 8s 58us/sample - loss: 0.2339 - fmeasure: 0.9094 - precision: 0.9164 - recall: 0.9025 - val_loss: 0.4202 - val_fmeasure: 0.8399 - val_precision: 0.8471 - val_recall: 0.8328\n",
      "Epoch 9/20\n",
      "131328/131380 [============================>.] - ETA: 0s - loss: 0.2202 - fmeasure: 0.9157 - precision: 0.9216 - recall: 0.9100\n",
      "Epoch 00009: val_fmeasure did not improve from 0.84398\n",
      "131380/131380 [==============================] - 8s 58us/sample - loss: 0.2202 - fmeasure: 0.9156 - precision: 0.9214 - recall: 0.9099 - val_loss: 0.4314 - val_fmeasure: 0.8369 - val_precision: 0.8443 - val_recall: 0.8296\n",
      "Epoch 10/20\n",
      "130816/131380 [============================>.] - ETA: 0s - loss: 0.2084 - fmeasure: 0.9205 - precision: 0.9257 - recall: 0.9154\n",
      "Epoch 00010: val_fmeasure did not improve from 0.84398\n",
      "131380/131380 [==============================] - 8s 61us/sample - loss: 0.2083 - fmeasure: 0.9207 - precision: 0.9259 - recall: 0.9155 - val_loss: 0.4398 - val_fmeasure: 0.8377 - val_precision: 0.8441 - val_recall: 0.8315\n",
      "Epoch 11/20\n",
      "131072/131380 [============================>.] - ETA: 0s - loss: 0.1968 - fmeasure: 0.9255 - precision: 0.9301 - recall: 0.9210\n",
      "Epoch 00011: val_fmeasure did not improve from 0.84398\n",
      "131380/131380 [==============================] - 8s 58us/sample - loss: 0.1967 - fmeasure: 0.9256 - precision: 0.9302 - recall: 0.9210 - val_loss: 0.4526 - val_fmeasure: 0.8347 - val_precision: 0.8415 - val_recall: 0.8279\n",
      "Epoch 12/20\n",
      "130816/131380 [============================>.] - ETA: 0s - loss: 0.1873 - fmeasure: 0.9287 - precision: 0.9330 - recall: 0.9245\n",
      "Epoch 00012: val_fmeasure did not improve from 0.84398\n",
      "131380/131380 [==============================] - 8s 58us/sample - loss: 0.1873 - fmeasure: 0.9289 - precision: 0.9331 - recall: 0.9247 - val_loss: 0.4733 - val_fmeasure: 0.8320 - val_precision: 0.8373 - val_recall: 0.8268\n",
      "Epoch 13/20\n",
      "130560/131380 [============================>.] - ETA: 0s - loss: 0.1775 - fmeasure: 0.9325 - precision: 0.9361 - recall: 0.9290\n",
      "Epoch 00013: val_fmeasure did not improve from 0.84398\n",
      "131380/131380 [==============================] - 8s 59us/sample - loss: 0.1773 - fmeasure: 0.9326 - precision: 0.9361 - recall: 0.9291 - val_loss: 0.4680 - val_fmeasure: 0.8325 - val_precision: 0.8383 - val_recall: 0.8268\n",
      "Epoch 14/20\n",
      "131328/131380 [============================>.] - ETA: 0s - loss: 0.1686 - fmeasure: 0.9362 - precision: 0.9395 - recall: 0.9329\n",
      "Epoch 00014: val_fmeasure did not improve from 0.84398\n",
      "131380/131380 [==============================] - 8s 59us/sample - loss: 0.1685 - fmeasure: 0.9363 - precision: 0.9396 - recall: 0.9330 - val_loss: 0.4855 - val_fmeasure: 0.8323 - val_precision: 0.8385 - val_recall: 0.8261\n",
      "Epoch 15/20\n",
      "131328/131380 [============================>.] - ETA: 0s - loss: 0.1611 - fmeasure: 0.9395 - precision: 0.9426 - recall: 0.9365\n",
      "Epoch 00015: val_fmeasure did not improve from 0.84398\n",
      "131380/131380 [==============================] - 8s 58us/sample - loss: 0.1611 - fmeasure: 0.9396 - precision: 0.9426 - recall: 0.9366 - val_loss: 0.5058 - val_fmeasure: 0.8312 - val_precision: 0.8354 - val_recall: 0.8271\n",
      "Epoch 16/20\n",
      "130560/131380 [============================>.] - ETA: 0s - loss: 0.1536 - fmeasure: 0.9423 - precision: 0.9450 - recall: 0.9396\n",
      "Epoch 00016: val_fmeasure did not improve from 0.84398\n",
      "131380/131380 [==============================] - 8s 58us/sample - loss: 0.1539 - fmeasure: 0.9423 - precision: 0.9450 - recall: 0.9396 - val_loss: 0.5111 - val_fmeasure: 0.8284 - val_precision: 0.8331 - val_recall: 0.8238\n",
      "Epoch 17/20\n",
      "130560/131380 [============================>.] - ETA: 0s - loss: 0.1464 - fmeasure: 0.9455 - precision: 0.9479 - recall: 0.9432\n",
      "Epoch 00017: val_fmeasure did not improve from 0.84398\n",
      "131380/131380 [==============================] - 8s 59us/sample - loss: 0.1464 - fmeasure: 0.9455 - precision: 0.9479 - recall: 0.9432 - val_loss: 0.5367 - val_fmeasure: 0.8260 - val_precision: 0.8306 - val_recall: 0.8214\n",
      "Epoch 18/20\n",
      "130816/131380 [============================>.] - ETA: 0s - loss: 0.1400 - fmeasure: 0.9478 - precision: 0.9502 - recall: 0.9454\n",
      "Epoch 00018: val_fmeasure did not improve from 0.84398\n",
      "131380/131380 [==============================] - 8s 59us/sample - loss: 0.1399 - fmeasure: 0.9479 - precision: 0.9503 - recall: 0.9455 - val_loss: 0.5751 - val_fmeasure: 0.8292 - val_precision: 0.8318 - val_recall: 0.8265\n",
      "Epoch 19/20\n",
      "130560/131380 [============================>.] - ETA: 0s - loss: 0.1348 - fmeasure: 0.9496 - precision: 0.9516 - recall: 0.9477\n",
      "Epoch 00019: val_fmeasure did not improve from 0.84398\n",
      "131380/131380 [==============================] - 8s 59us/sample - loss: 0.1348 - fmeasure: 0.9495 - precision: 0.9516 - recall: 0.9475 - val_loss: 0.5739 - val_fmeasure: 0.8289 - val_precision: 0.8323 - val_recall: 0.8255\n",
      "Epoch 20/20\n",
      "130816/131380 [============================>.] - ETA: 0s - loss: 0.1294 - fmeasure: 0.9519 - precision: 0.9539 - recall: 0.9498\n",
      "Epoch 00020: val_fmeasure did not improve from 0.84398\n",
      "131380/131380 [==============================] - 8s 58us/sample - loss: 0.1294 - fmeasure: 0.9519 - precision: 0.9539 - recall: 0.9498 - val_loss: 0.5596 - val_fmeasure: 0.8270 - val_precision: 0.8304 - val_recall: 0.8236\n"
     ]
    }
   ],
   "source": [
    "history = model.fit(X, Y, batch_size=512, epochs=20, validation_split=0.4, callbacks=cplist)"
   ]
  },
  {
   "cell_type": "code",
   "execution_count": 35,
   "metadata": {},
   "outputs": [
    {
     "data": {
      "image/png": "[encoded data removed]",
      "text/plain": [
       "<Figure size 432x288 with 1 Axes>"
      ]
     },
     "metadata": {
      "needs_background": "light"
     },
     "output_type": "display_data"
    }
   ],
   "source": [
    "history_dict = history.history\n",
    "#plot the metrics during training. \n",
    "epochs = range(1, len(history_dict['loss']) + 1)\n",
    "\n",
    "# \"bo\" is for \"blue dot\"\n",
    "plt.plot(epochs, history_dict['loss'], 'b',label='loss')\n",
    "plt.plot(epochs, history_dict['val_loss'], 'bo',label='val_loss')\n",
    "plt.plot(epochs, history_dict['fmeasure'], 'r',label='f1')\n",
    "plt.plot(epochs, history_dict['val_fmeasure'], 'ro',label='val_f1')\n",
    "plt.plot(epochs, history_dict['precision'], 'g',label='precision')\n",
    "plt.plot(epochs, history_dict['recall'], 'k',label='recall')\n",
    "\n",
    "plt.xlabel('Epochs')\n",
    "plt.grid()\n",
    "plt.legend(loc=1)\n",
    "plt.show()"
   ]
  },
  {
   "cell_type": "code",
   "execution_count": 36,
   "metadata": {},
   "outputs": [
    {
     "name": "stdout",
     "output_type": "stream",
     "text": [
      "              precision    recall  f1-score   support\n",
      "\n",
      "         0.0     0.7703    0.7812    0.7757     24484\n",
      "         1.0     0.8505    0.7881    0.8181     66200\n",
      "         2.0     0.7567    0.8378    0.7952     42094\n",
      "\n",
      "    accuracy                         0.8026    132778\n",
      "   macro avg     0.7925    0.8024    0.7964    132778\n",
      "weighted avg     0.8060    0.8026    0.8030    132778\n",
      "\n"
     ]
    }
   ],
   "source": [
    "model.load_weights(checkpoint_path)\n",
    "predicted = model.predict_classes(X_test, batch_size=64)\n",
    "print(classification_report(Y_test, predicted, digits=4))"
   ]
  },
  {
   "cell_type": "code",
   "execution_count": 20,
   "metadata": {},
   "outputs": [
    {
     "ename": "RuntimeError",
     "evalue": "Internal: /sentencepiece/src/trainer_interface.cc(498) [(trainer_spec_.vocab_size()) == (model_proto->pieces_size())] ",
     "output_type": "error",
     "traceback": [
      "\u001b[0;31m---------------------------------------------------------------------------\u001b[0m",
      "\u001b[0;31mRuntimeError\u001b[0m                              Traceback (most recent call last)",
      "\u001b[0;32m<ipython-input-20-3035a224b2a0>\u001b[0m in \u001b[0;36m<module>\u001b[0;34m\u001b[0m\n\u001b[1;32m      1\u001b[0m \u001b[0;32mimport\u001b[0m \u001b[0msentencepiece\u001b[0m \u001b[0;32mas\u001b[0m \u001b[0mspm\u001b[0m\u001b[0;34m\u001b[0m\u001b[0;34m\u001b[0m\u001b[0m\n\u001b[1;32m      2\u001b[0m \u001b[0;34m\u001b[0m\u001b[0m\n\u001b[0;32m----> 3\u001b[0;31m \u001b[0mspm\u001b[0m\u001b[0;34m.\u001b[0m\u001b[0mSentencePieceTrainer\u001b[0m\u001b[0;34m.\u001b[0m\u001b[0mtrain\u001b[0m\u001b[0;34m(\u001b[0m\u001b[0;34m'--input=data/train_sw.txt --model_prefix=m --vocab_size=1000000 model_type=bpe --bos_id=-1 --eos_id=-1 --pad_id=0 --unk_id=1'\u001b[0m\u001b[0;34m)\u001b[0m\u001b[0;34m\u001b[0m\u001b[0;34m\u001b[0m\u001b[0m\n\u001b[0m\u001b[1;32m      4\u001b[0m \u001b[0msp\u001b[0m \u001b[0;34m=\u001b[0m \u001b[0mspm\u001b[0m\u001b[0;34m.\u001b[0m\u001b[0mSentencePieceProcessor\u001b[0m\u001b[0;34m(\u001b[0m\u001b[0;34m)\u001b[0m\u001b[0;34m\u001b[0m\u001b[0;34m\u001b[0m\u001b[0m\n\u001b[1;32m      5\u001b[0m \u001b[0msp\u001b[0m\u001b[0;34m.\u001b[0m\u001b[0mload\u001b[0m\u001b[0;34m(\u001b[0m\u001b[0;34m'm.model'\u001b[0m\u001b[0;34m)\u001b[0m\u001b[0;34m\u001b[0m\u001b[0;34m\u001b[0m\u001b[0m\n",
      "\u001b[0;31mRuntimeError\u001b[0m: Internal: /sentencepiece/src/trainer_interface.cc(498) [(trainer_spec_.vocab_size()) == (model_proto->pieces_size())] "
     ]
    }
   ],
   "source": [
    "import sentencepiece as spm\n",
    "\n",
    "spm.SentencePieceTrainer.train('--input=data/train_sw.txt --model_prefix=m --vocab_size=1000000 model_type=bpe --bos_id=-1 --eos_id=-1 --pad_id=0 --unk_id=1')\n",
    "sp = spm.SentencePieceProcessor()\n",
    "sp.load('m.model')\n",
    "X_sw = train_set_small['text'].apply(lambda x: sp.encode_as_ids(str(x)))\n",
    "X_test_sw = test_set.dropna().text.apply(lambda x: sp.encode_as_ids(str(x)))"
   ]
  },
  {
   "cell_type": "code",
   "execution_count": 24,
   "metadata": {},
   "outputs": [
    {
     "name": "stdout",
     "output_type": "stream",
     "text": [
      "Min: 1\n",
      "Max: 106\n",
      "Mean: 11.672781536826182\n"
     ]
    }
   ],
   "source": [
    "min_len = 10000\n",
    "max_len = 0\n",
    "mean = 0\n",
    "for i in X_sw:\n",
    "    leni = len(i)\n",
    "    min_len = leni if leni < min_len else min_len\n",
    "    max_len = leni if leni > max_len else max_len\n",
    "    mean += leni\n",
    "mean = mean / len(X_sw)\n",
    "print(\"Min: {}\\nMax: {}\\nMean: {}\".format(min_len,max_len,mean))"
   ]
  },
  {
   "cell_type": "code",
   "execution_count": 25,
   "metadata": {},
   "outputs": [],
   "source": [
    "X_sw_padded = sequence.pad_sequences(X_sw, maxlen=MAX_LEN)\n",
    "X_test_sw_padded = sequence.pad_sequences(X_test_sw, maxlen=MAX_LEN)"
   ]
  },
  {
   "cell_type": "code",
   "execution_count": 26,
   "metadata": {
    "scrolled": true
   },
   "outputs": [
    {
     "name": "stdout",
     "output_type": "stream",
     "text": [
      "Model: \"sequential_1\"\n",
      "_________________________________________________________________\n",
      "Layer (type)                 Output Shape              Param #   \n",
      "=================================================================\n",
      "embedding_1 (Embedding)      (None, 100, 300)          9000000   \n",
      "_________________________________________________________________\n",
      "cu_dnngru_1 (CuDNNGRU)       (None, 100)               120600    \n",
      "_________________________________________________________________\n",
      "dense_1 (Dense)              (None, 3)                 303       \n",
      "=================================================================\n",
      "Total params: 9,120,903\n",
      "Trainable params: 9,120,903\n",
      "Non-trainable params: 0\n",
      "_________________________________________________________________\n",
      "None\n"
     ]
    }
   ],
   "source": [
    "model = create_model(VOCABSIZE=30000)"
   ]
  },
  {
   "cell_type": "code",
   "execution_count": 27,
   "metadata": {},
   "outputs": [],
   "source": [
    "checkpoint_path = 'training_w_pretrain/cp.ckpt'\n",
    "checkpoint_dir = os.path.dirname(checkpoint_path)\n",
    "\n",
    "CP = callbacks.ModelCheckpoint(checkpoint_path, save_weights_only=True, monitor=\"val_loss\", mode=\"min\", save_best_only=True, verbose=1)\n",
    "ES = callbacks.EarlyStopping(monitor='val_loss',min_delta=0.0001, patience=2)\n",
    "\n",
    "cplist = [CP, ES]"
   ]
  },
  {
   "cell_type": "code",
   "execution_count": 28,
   "metadata": {
    "scrolled": true
   },
   "outputs": [
    {
     "name": "stdout",
     "output_type": "stream",
     "text": [
      "Train on 220135 samples, validate on 24460 samples\n",
      "Epoch 1/20\n",
      "\n",
      "Epoch 00001: val_loss improved from inf to 0.43565, saving model to training_w_pretrain/cp.ckpt\n",
      "220135/220135 - 22s - loss: 0.4958 - fmeasure: 0.7987 - precision: 0.8285 - recall: 0.7774 - val_loss: 0.4357 - val_fmeasure: 0.8269 - val_precision: 0.8462 - val_recall: 0.8085\n",
      "Epoch 2/20\n",
      "\n",
      "Epoch 00002: val_loss improved from 0.43565 to 0.42939, saving model to training_w_pretrain/cp.ckpt\n",
      "220135/220135 - 22s - loss: 0.3720 - fmeasure: 0.8580 - precision: 0.8720 - recall: 0.8446 - val_loss: 0.4294 - val_fmeasure: 0.8292 - val_precision: 0.8453 - val_recall: 0.8138\n",
      "Epoch 3/20\n",
      "\n",
      "Epoch 00003: val_loss improved from 0.42939 to 0.41614, saving model to training_w_pretrain/cp.ckpt\n",
      "220135/220135 - 22s - loss: 0.3429 - fmeasure: 0.8699 - precision: 0.8824 - recall: 0.8578 - val_loss: 0.4161 - val_fmeasure: 0.8344 - val_precision: 0.8493 - val_recall: 0.8201\n",
      "Epoch 4/20\n",
      "\n",
      "Epoch 00004: val_loss did not improve from 0.41614\n",
      "220135/220135 - 21s - loss: 0.3241 - fmeasure: 0.8779 - precision: 0.8892 - recall: 0.8670 - val_loss: 0.4331 - val_fmeasure: 0.8282 - val_precision: 0.8436 - val_recall: 0.8134\n",
      "Epoch 5/20\n",
      "\n",
      "Epoch 00005: val_loss improved from 0.41614 to 0.41560, saving model to training_w_pretrain/cp.ckpt\n",
      "220135/220135 - 22s - loss: 0.3081 - fmeasure: 0.8848 - precision: 0.8951 - recall: 0.8747 - val_loss: 0.4156 - val_fmeasure: 0.8356 - val_precision: 0.8492 - val_recall: 0.8225\n",
      "Epoch 6/20\n",
      "\n",
      "Epoch 00006: val_loss did not improve from 0.41560\n",
      "220135/220135 - 21s - loss: 0.2945 - fmeasure: 0.8909 - precision: 0.9003 - recall: 0.8818 - val_loss: 0.4315 - val_fmeasure: 0.8323 - val_precision: 0.8442 - val_recall: 0.8208\n",
      "Epoch 7/20\n",
      "\n",
      "Epoch 00007: val_loss did not improve from 0.41560\n",
      "220135/220135 - 21s - loss: 0.2803 - fmeasure: 0.8967 - precision: 0.9054 - recall: 0.8882 - val_loss: 0.4255 - val_fmeasure: 0.8356 - val_precision: 0.8469 - val_recall: 0.8246\n"
     ]
    }
   ],
   "source": [
    "history = model.fit(X_sw_padded, Y, batch_size=256, epochs=20, validation_split=0.1, callbacks=cplist, verbose=2)"
   ]
  },
  {
   "cell_type": "code",
   "execution_count": 29,
   "metadata": {},
   "outputs": [
    {
     "data": {
      "image/png": "[encoded data removed]",
      "text/plain": [
       "<Figure size 432x288 with 1 Axes>"
      ]
     },
     "metadata": {
      "needs_background": "light"
     },
     "output_type": "display_data"
    }
   ],
   "source": [
    "history_dict = history.history\n",
    "#plot the metrics during training. \n",
    "epochs = range(1, len(history_dict['loss']) + 1)\n",
    "\n",
    "# \"bo\" is for \"blue dot\"\n",
    "plt.plot(epochs, history_dict['loss'], 'b',label='loss')\n",
    "plt.plot(epochs, history_dict['val_loss'], 'bo',label='val_loss')\n",
    "plt.plot(epochs, history_dict['fmeasure'], 'r',label='f1')\n",
    "plt.plot(epochs, history_dict['val_fmeasure'], 'ro',label='val_f1')\n",
    "plt.plot(epochs, history_dict['precision'], 'g',label='precision')\n",
    "plt.plot(epochs, history_dict['recall'], 'k',label='recall')\n",
    "\n",
    "plt.xlabel('Epochs')\n",
    "plt.grid()\n",
    "plt.legend(loc=1)\n",
    "plt.show()"
   ]
  },
  {
   "cell_type": "code",
   "execution_count": 30,
   "metadata": {},
   "outputs": [
    {
     "name": "stdout",
     "output_type": "stream",
     "text": [
      "              precision    recall  f1-score   support\n",
      "\n",
      "         0.0     0.7454    0.7960    0.7699     24472\n",
      "         1.0     0.8649    0.7524    0.8047     63707\n",
      "         2.0     0.7456    0.8630    0.8000     42064\n",
      "\n",
      "    accuracy                         0.7963    130243\n",
      "   macro avg     0.7853    0.8038    0.7915    130243\n",
      "weighted avg     0.8039    0.7963    0.7966    130243\n",
      "\n"
     ]
    }
   ],
   "source": [
    "predicted = model.predict_classes(X_test_sw_padded, batch_size=256)\n",
    "print(classification_report(Y_test, predicted, digits=4))"
   ]
  },
  {
   "cell_type": "code",
   "execution_count": 31,
   "metadata": {},
   "outputs": [
    {
     "name": "stdout",
     "output_type": "stream",
     "text": [
      "              precision    recall  f1-score   support\n",
      "\n",
      "         0.0     0.7843    0.7613    0.7726     24472\n",
      "         1.0     0.8450    0.7870    0.8150     63707\n",
      "         2.0     0.7592    0.8511    0.8025     42064\n",
      "\n",
      "    accuracy                         0.8029    130243\n",
      "   macro avg     0.7962    0.7998    0.7967    130243\n",
      "weighted avg     0.8059    0.8029    0.8030    130243\n",
      "\n"
     ]
    }
   ],
   "source": [
    "model.load_weights(checkpoint_path)\n",
    "predicted = model.predict_classes(X_test_sw_padded, batch_size=256)\n",
    "print(classification_report(Y_test, predicted, digits=4))"
   ]
  },
  {
   "cell_type": "code",
   "execution_count": 18,
   "metadata": {},
   "outputs": [
    {
     "data": {
      "text/plain": [
       "[31899, 1]"
      ]
     },
     "execution_count": 18,
     "metadata": {},
     "output_type": "execute_result"
    }
   ],
   "source": [
    "sp.EncodeAsIds(\"▁<UNK>\")"
   ]
  }
 ],
 "metadata": {
  "kernelspec": {
   "display_name": "Python [conda env:jnb] *",
   "language": "python",
   "name": "conda-env-jnb-py"
  },
  "language_info": {
   "codemirror_mode": {
    "name": "ipython",
    "version": 3
   },
   "file_extension": ".py",
   "mimetype": "text/x-python",
   "name": "python",
   "nbconvert_exporter": "python",
   "pygments_lexer": "ipython3",
   "version": "3.7.3"
  }
 },
 "nbformat": 4,
 "nbformat_minor": 2
}
