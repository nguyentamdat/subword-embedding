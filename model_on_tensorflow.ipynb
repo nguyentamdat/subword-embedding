{
 "cells": [
  {
   "cell_type": "code",
   "execution_count": 1,
   "metadata": {},
   "outputs": [],
   "source": [
    "import tensorflow as tf\n",
    "from tensorflow.keras import layers, preprocessing, Input, Model, optimizers, callbacks\n",
    "import pandas as pd\n",
    "import os\n",
    "from sklearn.metrics import classification_report"
   ]
  },
  {
   "cell_type": "code",
   "execution_count": 2,
   "metadata": {},
   "outputs": [],
   "source": [
    "train_dataset = pd.read_csv(\"train_clean_set.csv\")\n",
    "test_dataset = pd.read_csv(\"test_clean_set.csv\")"
   ]
  },
  {
   "cell_type": "code",
   "execution_count": 3,
   "metadata": {},
   "outputs": [],
   "source": [
    "train_dataset = train_dataset[train_dataset['word_count'] <= 150]"
   ]
  },
  {
   "cell_type": "code",
   "execution_count": 4,
   "metadata": {
    "scrolled": true
   },
   "outputs": [
    {
     "data": {
      "text/html": [
       "<div>\n",
       "<style scoped>\n",
       "    .dataframe tbody tr th:only-of-type {\n",
       "        vertical-align: middle;\n",
       "    }\n",
       "\n",
       "    .dataframe tbody tr th {\n",
       "        vertical-align: top;\n",
       "    }\n",
       "\n",
       "    .dataframe thead th {\n",
       "        text-align: right;\n",
       "    }\n",
       "</style>\n",
       "<table border=\"1\" class=\"dataframe\">\n",
       "  <thead>\n",
       "    <tr style=\"text-align: right;\">\n",
       "      <th></th>\n",
       "      <th>label</th>\n",
       "      <th>word_count</th>\n",
       "      <th>length</th>\n",
       "      <th>avg_word</th>\n",
       "    </tr>\n",
       "  </thead>\n",
       "  <tbody>\n",
       "    <tr>\n",
       "      <th>count</th>\n",
       "      <td>34085.000000</td>\n",
       "      <td>34085.000000</td>\n",
       "      <td>34085.000000</td>\n",
       "      <td>34085.000000</td>\n",
       "    </tr>\n",
       "    <tr>\n",
       "      <th>mean</th>\n",
       "      <td>0.477101</td>\n",
       "      <td>57.119349</td>\n",
       "      <td>262.530703</td>\n",
       "      <td>3.635064</td>\n",
       "    </tr>\n",
       "    <tr>\n",
       "      <th>std</th>\n",
       "      <td>0.499483</td>\n",
       "      <td>36.262552</td>\n",
       "      <td>168.013332</td>\n",
       "      <td>0.465427</td>\n",
       "    </tr>\n",
       "    <tr>\n",
       "      <th>min</th>\n",
       "      <td>0.000000</td>\n",
       "      <td>0.000000</td>\n",
       "      <td>0.000000</td>\n",
       "      <td>0.000000</td>\n",
       "    </tr>\n",
       "    <tr>\n",
       "      <th>25%</th>\n",
       "      <td>0.000000</td>\n",
       "      <td>28.000000</td>\n",
       "      <td>128.000000</td>\n",
       "      <td>3.347826</td>\n",
       "    </tr>\n",
       "    <tr>\n",
       "      <th>50%</th>\n",
       "      <td>0.000000</td>\n",
       "      <td>53.000000</td>\n",
       "      <td>242.000000</td>\n",
       "      <td>3.583333</td>\n",
       "    </tr>\n",
       "    <tr>\n",
       "      <th>75%</th>\n",
       "      <td>1.000000</td>\n",
       "      <td>82.000000</td>\n",
       "      <td>373.000000</td>\n",
       "      <td>3.857143</td>\n",
       "    </tr>\n",
       "    <tr>\n",
       "      <th>max</th>\n",
       "      <td>1.000000</td>\n",
       "      <td>150.000000</td>\n",
       "      <td>897.000000</td>\n",
       "      <td>9.000000</td>\n",
       "    </tr>\n",
       "  </tbody>\n",
       "</table>\n",
       "</div>"
      ],
      "text/plain": [
       "              label    word_count        length      avg_word\n",
       "count  34085.000000  34085.000000  34085.000000  34085.000000\n",
       "mean       0.477101     57.119349    262.530703      3.635064\n",
       "std        0.499483     36.262552    168.013332      0.465427\n",
       "min        0.000000      0.000000      0.000000      0.000000\n",
       "25%        0.000000     28.000000    128.000000      3.347826\n",
       "50%        0.000000     53.000000    242.000000      3.583333\n",
       "75%        1.000000     82.000000    373.000000      3.857143\n",
       "max        1.000000    150.000000    897.000000      9.000000"
      ]
     },
     "execution_count": 4,
     "metadata": {},
     "output_type": "execute_result"
    }
   ],
   "source": [
    "train_dataset.describe()"
   ]
  },
  {
   "cell_type": "code",
   "execution_count": 5,
   "metadata": {},
   "outputs": [],
   "source": [
    "MAX_LEN = 150\n",
    "MAX_WORDS = 8000"
   ]
  },
  {
   "cell_type": "code",
   "execution_count": 6,
   "metadata": {
    "scrolled": true
   },
   "outputs": [
    {
     "name": "stdout",
     "output_type": "stream",
     "text": [
      "29346\n"
     ]
    }
   ],
   "source": [
    "X = train_dataset.search_text.astype(str)\n",
    "Y = train_dataset.label\n",
    "vocab = preprocessing.text.Tokenizer(num_words=MAX_WORDS, oov_token='UNK')\n",
    "vocab.fit_on_texts(X)\n",
    "X_vector = vocab.texts_to_sequences(X)\n",
    "X_matrix = preprocessing.sequence.pad_sequences(X_vector, maxlen=MAX_LEN)\n",
    "print(len(vocab.word_index))"
   ]
  },
  {
   "cell_type": "code",
   "execution_count": 7,
   "metadata": {},
   "outputs": [
    {
     "name": "stdout",
     "output_type": "stream",
     "text": [
      "[[1]]\n"
     ]
    }
   ],
   "source": [
    "print(vocab.texts_to_sequences(['httpsbitlyvn32wl']))"
   ]
  },
  {
   "cell_type": "code",
   "execution_count": 8,
   "metadata": {},
   "outputs": [],
   "source": [
    "def RNN():\n",
    "    inputs = Input(shape=[MAX_LEN])\n",
    "    layer = layers.Embedding(MAX_WORDS, 300, input_length=MAX_LEN)(inputs)\n",
    "    layer = layers.CuDNNLSTM(64)(layer)\n",
    "    layer = layers.Dense(256)(layer)\n",
    "    layer = layers.Activation('relu')(layer)\n",
    "    layer = layers.Dropout(0.2)(layer)\n",
    "    layer = layers.Dense(1)(layer)\n",
    "    layer = layers.Activation('sigmoid')(layer)\n",
    "    model = Model(inputs=inputs, outputs=layer)\n",
    "    return model"
   ]
  },
  {
   "cell_type": "code",
   "execution_count": 32,
   "metadata": {
    "scrolled": true
   },
   "outputs": [
    {
     "name": "stdout",
     "output_type": "stream",
     "text": [
      "Model: \"model_2\"\n",
      "_________________________________________________________________\n",
      "Layer (type)                 Output Shape              Param #   \n",
      "=================================================================\n",
      "input_3 (InputLayer)         [(None, 150)]             0         \n",
      "_________________________________________________________________\n",
      "embedding_2 (Embedding)      (None, 150, 300)          2400000   \n",
      "_________________________________________________________________\n",
      "cu_dnnlstm_2 (CuDNNLSTM)     (None, 64)                93696     \n",
      "_________________________________________________________________\n",
      "dense_4 (Dense)              (None, 256)               16640     \n",
      "_________________________________________________________________\n",
      "activation_4 (Activation)    (None, 256)               0         \n",
      "_________________________________________________________________\n",
      "dropout_2 (Dropout)          (None, 256)               0         \n",
      "_________________________________________________________________\n",
      "dense_5 (Dense)              (None, 1)                 257       \n",
      "_________________________________________________________________\n",
      "activation_5 (Activation)    (None, 1)                 0         \n",
      "=================================================================\n",
      "Total params: 2,510,593\n",
      "Trainable params: 2,510,593\n",
      "Non-trainable params: 0\n",
      "_________________________________________________________________\n"
     ]
    }
   ],
   "source": [
    "model = RNN()\n",
    "model.summary()\n",
    "model.compile(optimizer=optimizers.RMSprop(), loss='binary_crossentropy', metrics=['accuracy','Precision','Recall'])"
   ]
  },
  {
   "cell_type": "code",
   "execution_count": 33,
   "metadata": {},
   "outputs": [],
   "source": [
    "checkpoint_path = \"training1/cp.ckpt\"\n",
    "checkpoint_dir = os.path.dirname(checkpoint_path)\n",
    "\n",
    "\n",
    "ES = callbacks.EarlyStopping(monitor='val_loss',min_delta=0.0001)\n",
    "CP = callbacks.ModelCheckpoint(checkpoint_path, save_weights_only=True, monitor=\"val_acc\", mode=\"max\", save_best_only=True, verbose=1)\n",
    "\n",
    "cplist = [CP]"
   ]
  },
  {
   "cell_type": "code",
   "execution_count": 34,
   "metadata": {
    "scrolled": true
   },
   "outputs": [
    {
     "name": "stdout",
     "output_type": "stream",
     "text": [
      "Train on 27268 samples, validate on 6817 samples\n",
      "Epoch 1/20\n",
      "27264/27268 [============================>.] - ETA: 0s - loss: 0.2929 - acc: 0.8816 - precision_4: 0.8646 - recall_4: 0.8909\n",
      "Epoch 00001: val_acc improved from -inf to 0.92035, saving model to training1/cp.ckpt\n",
      "27268/27268 [==============================] - 3s 126us/sample - loss: 0.2929 - acc: 0.8817 - precision_4: 0.8646 - recall_4: 0.8909 - val_loss: 0.2207 - val_acc: 0.9203 - val_precision_4: 0.8836 - val_recall_4: 0.9610\n",
      "Epoch 2/20\n",
      "26752/27268 [============================>.] - ETA: 0s - loss: 0.1730 - acc: 0.9388 - precision_4: 0.9324 - recall_4: 0.9394\n",
      "Epoch 00002: val_acc improved from 0.92035 to 0.93927, saving model to training1/cp.ckpt\n",
      "27268/27268 [==============================] - 3s 112us/sample - loss: 0.1721 - acc: 0.9391 - precision_4: 0.9329 - recall_4: 0.9398 - val_loss: 0.1863 - val_acc: 0.9393 - val_precision_4: 0.9301 - val_recall_4: 0.9448\n",
      "Epoch 3/20\n",
      "27264/27268 [============================>.] - ETA: 0s - loss: 0.1285 - acc: 0.9550 - precision_4: 0.9500 - recall_4: 0.9557\n",
      "Epoch 00003: val_acc improved from 0.93927 to 0.94162, saving model to training1/cp.ckpt\n",
      "27268/27268 [==============================] - 3s 119us/sample - loss: 0.1284 - acc: 0.9550 - precision_4: 0.9500 - recall_4: 0.9557 - val_loss: 0.1709 - val_acc: 0.9416 - val_precision_4: 0.9263 - val_recall_4: 0.9546\n",
      "Epoch 4/20\n",
      "27008/27268 [============================>.] - ETA: 0s - loss: 0.1029 - acc: 0.9637 - precision_4: 0.9597 - recall_4: 0.9642\n",
      "Epoch 00004: val_acc improved from 0.94162 to 0.94176, saving model to training1/cp.ckpt\n",
      "27268/27268 [==============================] - 3s 113us/sample - loss: 0.1027 - acc: 0.9638 - precision_4: 0.9598 - recall_4: 0.9644 - val_loss: 0.1821 - val_acc: 0.9418 - val_precision_4: 0.9299 - val_recall_4: 0.9506\n",
      "Epoch 5/20\n",
      "27136/27268 [============================>.] - ETA: 0s - loss: 0.0809 - acc: 0.9724 - precision_4: 0.9698 - recall_4: 0.9723\n",
      "Epoch 00005: val_acc improved from 0.94176 to 0.94235, saving model to training1/cp.ckpt\n",
      "27268/27268 [==============================] - 3s 118us/sample - loss: 0.0808 - acc: 0.9725 - precision_4: 0.9700 - recall_4: 0.9723 - val_loss: 0.2117 - val_acc: 0.9424 - val_precision_4: 0.9346 - val_recall_4: 0.9463\n",
      "Epoch 6/20\n",
      "27008/27268 [============================>.] - ETA: 0s - loss: 0.0633 - acc: 0.9786 - precision_4: 0.9775 - recall_4: 0.9775\n",
      "Epoch 00006: val_acc did not improve from 0.94235\n",
      "27268/27268 [==============================] - 3s 110us/sample - loss: 0.0632 - acc: 0.9787 - precision_4: 0.9774 - recall_4: 0.9777 - val_loss: 0.1964 - val_acc: 0.9388 - val_precision_4: 0.9492 - val_recall_4: 0.9222\n",
      "Epoch 7/20\n",
      "27008/27268 [============================>.] - ETA: 0s - loss: 0.0517 - acc: 0.9825 - precision_4: 0.9819 - recall_4: 0.9814\n",
      "Epoch 00007: val_acc did not improve from 0.94235\n",
      "27268/27268 [==============================] - 3s 107us/sample - loss: 0.0519 - acc: 0.9824 - precision_4: 0.9816 - recall_4: 0.9814 - val_loss: 0.2021 - val_acc: 0.9419 - val_precision_4: 0.9431 - val_recall_4: 0.9357\n",
      "Epoch 8/20\n",
      "27264/27268 [============================>.] - ETA: 0s - loss: 0.0416 - acc: 0.9865 - precision_4: 0.9846 - recall_4: 0.9871\n",
      "Epoch 00008: val_acc did not improve from 0.94235\n",
      "27268/27268 [==============================] - 3s 109us/sample - loss: 0.0416 - acc: 0.9865 - precision_4: 0.9846 - recall_4: 0.9871 - val_loss: 0.2266 - val_acc: 0.9400 - val_precision_4: 0.9372 - val_recall_4: 0.9381\n",
      "Epoch 9/20\n",
      "27008/27268 [============================>.] - ETA: 0s - loss: 0.0314 - acc: 0.9903 - precision_4: 0.9892 - recall_4: 0.9904\n",
      "Epoch 00009: val_acc did not improve from 0.94235\n",
      "27268/27268 [==============================] - 3s 107us/sample - loss: 0.0312 - acc: 0.9903 - precision_4: 0.9892 - recall_4: 0.9904 - val_loss: 0.2881 - val_acc: 0.9357 - val_precision_4: 0.9351 - val_recall_4: 0.9311\n",
      "Epoch 10/20\n",
      "26752/27268 [============================>.] - ETA: 0s - loss: 0.0279 - acc: 0.9914 - precision_4: 0.9914 - recall_4: 0.9905\n",
      "Epoch 00010: val_acc did not improve from 0.94235\n",
      "27268/27268 [==============================] - 3s 110us/sample - loss: 0.0280 - acc: 0.9913 - precision_4: 0.9914 - recall_4: 0.9903 - val_loss: 0.2801 - val_acc: 0.9410 - val_precision_4: 0.9376 - val_recall_4: 0.9399\n",
      "Epoch 11/20\n",
      "27264/27268 [============================>.] - ETA: 0s - loss: 0.0232 - acc: 0.9934 - precision_4: 0.9930 - recall_4: 0.9932\n",
      "Epoch 00011: val_acc did not improve from 0.94235\n",
      "27268/27268 [==============================] - 3s 106us/sample - loss: 0.0232 - acc: 0.9934 - precision_4: 0.9930 - recall_4: 0.9932 - val_loss: 0.2711 - val_acc: 0.9382 - val_precision_4: 0.9349 - val_recall_4: 0.9369\n",
      "Epoch 12/20\n",
      "27264/27268 [============================>.] - ETA: 0s - loss: 0.0180 - acc: 0.9946 - precision_4: 0.9941 - recall_4: 0.9945\n",
      "Epoch 00012: val_acc did not improve from 0.94235\n",
      "27268/27268 [==============================] - 3s 109us/sample - loss: 0.0180 - acc: 0.9946 - precision_4: 0.9941 - recall_4: 0.9945 - val_loss: 0.3941 - val_acc: 0.9399 - val_precision_4: 0.9375 - val_recall_4: 0.9375\n",
      "Epoch 13/20\n",
      "27264/27268 [============================>.] - ETA: 0s - loss: 0.0146 - acc: 0.9959 - precision_4: 0.9955 - recall_4: 0.9959\n",
      "Epoch 00013: val_acc did not improve from 0.94235\n",
      "27268/27268 [==============================] - 3s 111us/sample - loss: 0.0146 - acc: 0.9959 - precision_4: 0.9955 - recall_4: 0.9959 - val_loss: 0.3532 - val_acc: 0.9335 - val_precision_4: 0.9303 - val_recall_4: 0.9317\n",
      "Epoch 14/20\n",
      "27264/27268 [============================>.] - ETA: 0s - loss: 0.0138 - acc: 0.9956 - precision_4: 0.9958 - recall_4: 0.9949\n",
      "Epoch 00014: val_acc did not improve from 0.94235\n",
      "27268/27268 [==============================] - 3s 107us/sample - loss: 0.0138 - acc: 0.9956 - precision_4: 0.9958 - recall_4: 0.9949 - val_loss: 0.3676 - val_acc: 0.9399 - val_precision_4: 0.9391 - val_recall_4: 0.9357\n",
      "Epoch 15/20\n",
      "27264/27268 [============================>.] - ETA: 0s - loss: 0.0118 - acc: 0.9966 - precision_4: 0.9964 - recall_4: 0.9964\n",
      "Epoch 00015: val_acc did not improve from 0.94235\n",
      "27268/27268 [==============================] - 3s 108us/sample - loss: 0.0118 - acc: 0.9966 - precision_4: 0.9964 - recall_4: 0.9964 - val_loss: 0.3543 - val_acc: 0.9341 - val_precision_4: 0.9408 - val_recall_4: 0.9210\n",
      "Epoch 16/20\n",
      "26880/27268 [============================>.] - ETA: 0s - loss: 0.0080 - acc: 0.9980 - precision_4: 0.9982 - recall_4: 0.9975\n",
      "Epoch 00016: val_acc did not improve from 0.94235\n",
      "27268/27268 [==============================] - 3s 108us/sample - loss: 0.0082 - acc: 0.9979 - precision_4: 0.9981 - recall_4: 0.9975 - val_loss: 0.3814 - val_acc: 0.9369 - val_precision_4: 0.9420 - val_recall_4: 0.9259\n",
      "Epoch 17/20\n",
      "27136/27268 [============================>.] - ETA: 0s - loss: 0.0092 - acc: 0.9977 - precision_4: 0.9973 - recall_4: 0.9978\n",
      "Epoch 00017: val_acc did not improve from 0.94235\n",
      "27268/27268 [==============================] - 3s 110us/sample - loss: 0.0092 - acc: 0.9977 - precision_4: 0.9973 - recall_4: 0.9978 - val_loss: 0.4277 - val_acc: 0.9387 - val_precision_4: 0.9381 - val_recall_4: 0.9341\n",
      "Epoch 18/20\n",
      "27136/27268 [============================>.] - ETA: 0s - loss: 0.0091 - acc: 0.9973 - precision_4: 0.9971 - recall_4: 0.9973\n",
      "Epoch 00018: val_acc did not improve from 0.94235\n",
      "27268/27268 [==============================] - 3s 108us/sample - loss: 0.0091 - acc: 0.9974 - precision_4: 0.9972 - recall_4: 0.9973 - val_loss: 0.4045 - val_acc: 0.9316 - val_precision_4: 0.9282 - val_recall_4: 0.9299\n",
      "Epoch 19/20\n",
      "27136/27268 [============================>.] - ETA: 0s - loss: 0.0062 - acc: 0.9982 - precision_4: 0.9982 - recall_4: 0.9979\n",
      "Epoch 00019: val_acc did not improve from 0.94235\n",
      "27268/27268 [==============================] - 3s 108us/sample - loss: 0.0061 - acc: 0.9982 - precision_4: 0.9982 - recall_4: 0.9979 - val_loss: 0.4711 - val_acc: 0.9365 - val_precision_4: 0.9368 - val_recall_4: 0.9308\n",
      "Epoch 20/20\n",
      "26880/27268 [============================>.] - ETA: 0s - loss: 0.0100 - acc: 0.9978 - precision_4: 0.9980 - recall_4: 0.9974\n",
      "Epoch 00020: val_acc did not improve from 0.94235\n",
      "27268/27268 [==============================] - 3s 107us/sample - loss: 0.0100 - acc: 0.9978 - precision_4: 0.9980 - recall_4: 0.9975 - val_loss: 0.4869 - val_acc: 0.9341 - val_precision_4: 0.9249 - val_recall_4: 0.9393\n"
     ]
    },
    {
     "data": {
      "text/plain": [
       "<tensorflow.python.keras.callbacks.History at 0x7f39e81d6390>"
      ]
     },
     "execution_count": 34,
     "metadata": {},
     "output_type": "execute_result"
    }
   ],
   "source": [
    "model.fit(X_matrix, Y, batch_size=128, epochs=20, validation_split=0.2, callbacks=cplist)"
   ]
  },
  {
   "cell_type": "code",
   "execution_count": 35,
   "metadata": {},
   "outputs": [],
   "source": [
    "X_test = test_dataset.search_text.astype(str)\n",
    "Y_test = test_dataset.label\n",
    "X_test_matrix = preprocessing.sequence.pad_sequences(vocab.texts_to_sequences(X_test), maxlen=MAX_LEN)"
   ]
  },
  {
   "cell_type": "code",
   "execution_count": 36,
   "metadata": {},
   "outputs": [
    {
     "name": "stdout",
     "output_type": "stream",
     "text": [
      "10000/10000 [==============================] - 1s 88us/sample - loss: 0.6277 - acc: 0.9091 - precision_4: 0.9048 - recall_4: 0.9123\n",
      "Test set\n",
      "  Loss: 0.628\n",
      "  Accuracy: 0.909\n",
      "  Recall: 0.905\n",
      "  Precision: 0.912\n"
     ]
    }
   ],
   "source": [
    "accr = model.evaluate(X_test_matrix, Y_test)\n",
    "print('Test set\\n  Loss: {:0.3f}\\n  Accuracy: {:0.3f}\\n  Recall: {:0.3f}\\n  Precision: {:0.3f}'.format(accr[0],accr[1],accr[2],accr[3]))"
   ]
  },
  {
   "cell_type": "code",
   "execution_count": 37,
   "metadata": {},
   "outputs": [
    {
     "name": "stdout",
     "output_type": "stream",
     "text": [
      "F1 Score: 0.909\n"
     ]
    }
   ],
   "source": [
    "f1_score = (2 * accr[2] * accr[3]) / (accr[2] + accr[3])\n",
    "print('F1 Score: {:0.3f}'.format(f1_score))"
   ]
  },
  {
   "cell_type": "code",
   "execution_count": 38,
   "metadata": {
    "scrolled": false
   },
   "outputs": [
    {
     "name": "stdout",
     "output_type": "stream",
     "text": [
      "              precision    recall  f1-score   support\n",
      "\n",
      "           0     0.9133    0.9059    0.9096      5049\n",
      "           1     0.9048    0.9123    0.9086      4951\n",
      "\n",
      "    accuracy                         0.9091     10000\n",
      "   macro avg     0.9091    0.9091    0.9091     10000\n",
      "weighted avg     0.9091    0.9091    0.9091     10000\n",
      "\n"
     ]
    }
   ],
   "source": [
    "Y_predicted = model.predict(X_test_matrix).transpose()[0].round()\n",
    "print(classification_report(Y_test.values, Y_predicted, digits=4))"
   ]
  },
  {
   "cell_type": "code",
   "execution_count": 39,
   "metadata": {},
   "outputs": [
    {
     "name": "stdout",
     "output_type": "stream",
     "text": [
      "              precision    recall  f1-score   support\n",
      "\n",
      "           0     0.9215    0.9228    0.9221      5049\n",
      "           1     0.9211    0.9198    0.9205      4951\n",
      "\n",
      "    accuracy                         0.9213     10000\n",
      "   macro avg     0.9213    0.9213    0.9213     10000\n",
      "weighted avg     0.9213    0.9213    0.9213     10000\n",
      "\n"
     ]
    }
   ],
   "source": [
    "model.load_weights(checkpoint_path)\n",
    "Y_predicted = model.predict(X_test_matrix).transpose()[0].round()\n",
    "print(classification_report(Y_test.values, Y_predicted, digits=4))"
   ]
  }
 ],
 "metadata": {
  "kernelspec": {
   "display_name": "Python [conda env:jnb] *",
   "language": "python",
   "name": "conda-env-jnb-py"
  },
  "language_info": {
   "codemirror_mode": {
    "name": "ipython",
    "version": 3
   },
   "file_extension": ".py",
   "mimetype": "text/x-python",
   "name": "python",
   "nbconvert_exporter": "python",
   "pygments_lexer": "ipython3",
   "version": "3.7.3"
  }
 },
 "nbformat": 4,
 "nbformat_minor": 2
}
